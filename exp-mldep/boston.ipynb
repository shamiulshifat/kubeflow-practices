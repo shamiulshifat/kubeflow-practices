{
 "cells": [
  {
   "cell_type": "markdown",
   "metadata": {},
   "source": [
    "# pre-process data"
   ]
  },
  {
   "cell_type": "code",
   "execution_count": null,
   "metadata": {},
   "outputs": [],
   "source": [
    "#1st component\n",
    "import numpy as np\n",
    "from sklearn import datasets\n",
    "from sklearn.model_selection import train_test_split\n",
    "\n",
    "def _preprocess_data():\n",
    "     X, y = datasets.load_boston(return_X_y=True)\n",
    "     X_train, X_test, y_train, y_test = train_test_split(X, y, test_size=0.33)\n",
    "     np.save('x_train.npy', X_train)\n",
    "     np.save('x_test.npy', X_test)\n",
    "     np.save('y_train.npy', y_train)\n",
    "     np.save('y_test.npy', y_test)\n",
    "     \n",
    "if __name__ == '__main__':\n",
    "     print('Preprocessing data...')\n",
    "     _preprocess_data()"
   ]
  },
  {
   "cell_type": "code",
   "execution_count": null,
   "metadata": {},
   "outputs": [],
   "source": [
    "import kfp\n",
    "from kfp import dsl\n",
    "\n",
    "@dsl.pipeline(\n",
    "   name='Boston Housing Pipeline',\n",
    "   description='An example pipeline.'\n",
    ")\n",
    "def boston_pipeline():\n",
    "    _preprocess_op = preprocess_op()\n",
    "\n",
    "client = kfp.Client()\n",
    "client.create_run_from_pipeline_func(boston_pipeline, arguments={})"
   ]
  },
  {
   "cell_type": "code",
   "execution_count": null,
   "metadata": {},
   "outputs": [],
   "source": [
    "import argparse\n",
    "import joblib\n",
    "import numpy as np\n",
    "from sklearn.linear_model import SGDRegressor\n",
    "\n",
    "def train_model(x_train, y_train):\n",
    "    x_train_data = np.load(x_train)\n",
    "    y_train_data = np.load(y_train)\n",
    "\n",
    "    model = SGDRegressor(verbose=1)\n",
    "    model.fit(x_train_data, y_train_data)\n",
    "    \n",
    "    joblib.dump(model, 'model.pkl')\n",
    "\n",
    "\n",
    "if __name__ == '__main__':\n",
    "    parser = argparse.ArgumentParser()\n",
    "    parser.add_argument('--x_train')\n",
    "    parser.add_argument('--y_train')\n",
    "    args = parser.parse_args()\n",
    "    train_model(args.x_train, args.y_train)"
   ]
  },
  {
   "cell_type": "code",
   "execution_count": null,
   "metadata": {},
   "outputs": [],
   "source": [
    "FROM python:3.7-slim\n",
    "\n",
    "WORKDIR /app\n",
    "\n",
    "RUN pip install -U scikit-learn numpy\n",
    "\n",
    "COPY train.py ./train.py\n",
    "\n",
    "ENTRYPOINT [ \"python\", \"train.py\" ]"
   ]
  },
  {
   "cell_type": "code",
   "execution_count": null,
   "metadata": {},
   "outputs": [],
   "source": [
    "def train_op(x_train, y_train):\n",
    "\n",
    "    return dsl.ContainerOp(\n",
    "        name='Train Model',\n",
    "        image='gnovack/boston_pipeline_train:latest',\n",
    "        arguments=[\n",
    "            '--x_train', x_train,\n",
    "            '--y_train', y_train\n",
    "        ],\n",
    "        file_outputs={\n",
    "            'model': '/app/model.pkl'\n",
    "        }\n",
    "    )"
   ]
  },
  {
   "cell_type": "code",
   "execution_count": null,
   "metadata": {},
   "outputs": [],
   "source": [
    "def test_op(x_test, y_test, model):\n",
    "\n",
    "    return dsl.ContainerOp(\n",
    "        name='Test Model',\n",
    "        image='gnovack/boston_pipeline_test:latest',\n",
    "        arguments=[\n",
    "            '--x_test', x_test,\n",
    "            '--y_test', y_test,\n",
    "            '--model', model\n",
    "        ],\n",
    "        file_outputs={\n",
    "            'mean_squared_error': '/app/output.txt'\n",
    "        }\n",
    "    )"
   ]
  },
  {
   "cell_type": "code",
   "execution_count": null,
   "metadata": {},
   "outputs": [],
   "source": [
    "def deploy_model_op(model):\n",
    "\n",
    "    return dsl.ContainerOp(\n",
    "        name='Deploy Model',\n",
    "        image='gnovack/boston_pipeline_deploy_model:latest',\n",
    "        arguments=[\n",
    "            '--model', model\n",
    "        ]\n",
    "    )"
   ]
  },
  {
   "cell_type": "code",
   "execution_count": null,
   "metadata": {},
   "outputs": [],
   "source": [
    "@dsl.pipeline(\n",
    "   name='Boston Housing Pipeline',\n",
    "   description='An example pipeline that trains and logs a regression model.'\n",
    ")\n",
    "def boston_pipeline():\n",
    "    _preprocess_op = preprocess_op()\n",
    "    \n",
    "    _train_op = train_op(\n",
    "        dsl.InputArgumentPath(_preprocess_op.outputs['x_train']),\n",
    "        dsl.InputArgumentPath(_preprocess_op.outputs['y_train'])\n",
    "    ).after(_preprocess_op)\n",
    "\n",
    "    _test_op = test_op(\n",
    "        dsl.InputArgumentPath(_preprocess_op.outputs['x_test']),\n",
    "        dsl.InputArgumentPath(_preprocess_op.outputs['y_test']),\n",
    "        dsl.InputArgumentPath(_train_op.outputs['model'])\n",
    "    ).after(_train_op)\n",
    "\n",
    "    deploy_model_op(\n",
    "        dsl.InputArgumentPath(_train_op.outputs['model'])\n",
    "    ).after(_test_op)"
   ]
  }
 ],
 "metadata": {
  "language_info": {
   "name": "python"
  },
  "orig_nbformat": 4
 },
 "nbformat": 4,
 "nbformat_minor": 2
}

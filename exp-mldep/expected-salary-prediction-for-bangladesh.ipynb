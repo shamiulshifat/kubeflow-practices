{
 "cells": [
  {
   "cell_type": "code",
   "execution_count": 3,
   "id": "012a7a68",
   "metadata": {
    "execution": {
     "iopub.execute_input": "2021-10-07T10:08:31.082256Z",
     "iopub.status.busy": "2021-10-07T10:08:31.081667Z",
     "iopub.status.idle": "2021-10-07T10:08:31.085523Z",
     "shell.execute_reply": "2021-10-07T10:08:31.085072Z",
     "shell.execute_reply.started": "2021-10-07T09:59:58.032935Z"
    },
    "papermill": {
     "duration": 0.013328,
     "end_time": "2021-10-07T10:08:31.085688",
     "exception": false,
     "start_time": "2021-10-07T10:08:31.072360",
     "status": "completed"
    },
    "tags": []
   },
   "outputs": [],
   "source": [
    "#load important libs\n",
    "\n",
    "import numpy as np\n",
    "import matplotlib.pyplot as plt\n",
    "import pandas as pd\n",
    "import pickle\n",
    "#kfp imports\n",
    "\n",
    "import kfp\n",
    "import kfp.dsl as dsl\n",
    "from kfp import compiler\n",
    "from kfp import components\n",
    "from kfp.components import InputPath, InputTextFile, OutputPath, OutputTextFile\n",
    "from kfp.components import func_to_container_op\n"
   ]
  },
  {
   "cell_type": "code",
   "execution_count": null,
   "id": "786ece5e",
   "metadata": {
    "execution": {
     "iopub.execute_input": "2021-10-07T10:08:31.104977Z",
     "iopub.status.busy": "2021-10-07T10:08:31.104377Z",
     "iopub.status.idle": "2021-10-07T10:08:31.129879Z",
     "shell.execute_reply": "2021-10-07T10:08:31.130310Z",
     "shell.execute_reply.started": "2021-10-07T10:02:53.833454Z"
    },
    "papermill": {
     "duration": 0.037643,
     "end_time": "2021-10-07T10:08:31.130484",
     "exception": false,
     "start_time": "2021-10-07T10:08:31.092841",
     "status": "completed"
    },
    "tags": []
   },
   "outputs": [],
   "source": [
    "#load dataset\n",
    "@func_to_container_op\n",
    "def load_dataset(df:str):\n",
    "    import pandas as pd\n",
    "    dataset=pd.read_csv(df)\n",
    "    # X contains the years of experience, y contains the expected salary\n",
    "    X = dataset.iloc[:, :-1].values\n",
    "    y = dataset.iloc[:, 1].values\n",
    "    #split the data\n",
    "    from sklearn.model_selection import train_test_split\n",
    "    X_train, X_test, y_train, y_test = train_test_split(X, y, test_size = 1/3, random_state = 0)\n",
    "\n",
    "    \n"
   ]
  },
  {
   "cell_type": "code",
   "execution_count": null,
   "id": "4a6ee09f",
   "metadata": {
    "execution": {
     "iopub.execute_input": "2021-10-07T10:08:31.175100Z",
     "iopub.status.busy": "2021-10-07T10:08:31.174522Z",
     "iopub.status.idle": "2021-10-07T10:08:31.937548Z",
     "shell.execute_reply": "2021-10-07T10:08:31.936906Z",
     "shell.execute_reply.started": "2021-10-07T10:04:38.671675Z"
    },
    "papermill": {
     "duration": 0.77359,
     "end_time": "2021-10-07T10:08:31.937685",
     "exception": false,
     "start_time": "2021-10-07T10:08:31.164095",
     "status": "completed"
    },
    "tags": []
   },
   "outputs": [],
   "source": []
  },
  {
   "cell_type": "code",
   "execution_count": null,
   "id": "6633bfe0",
   "metadata": {
    "execution": {
     "iopub.execute_input": "2021-10-07T10:08:31.960511Z",
     "iopub.status.busy": "2021-10-07T10:08:31.959660Z",
     "iopub.status.idle": "2021-10-07T10:08:32.047625Z",
     "shell.execute_reply": "2021-10-07T10:08:32.047168Z",
     "shell.execute_reply.started": "2021-10-07T10:05:20.043425Z"
    },
    "papermill": {
     "duration": 0.100232,
     "end_time": "2021-10-07T10:08:32.047759",
     "exception": false,
     "start_time": "2021-10-07T10:08:31.947527",
     "status": "completed"
    },
    "tags": []
   },
   "outputs": [
    {
     "data": {
      "text/plain": [
       "LinearRegression()"
      ]
     },
     "execution_count": 6,
     "metadata": {},
     "output_type": "execute_result"
    }
   ],
   "source": [
    "#fit the model to a simple regression\n",
    "from sklearn.linear_model import LinearRegression\n",
    "regressor = LinearRegression()\n",
    "regressor.fit(X_train, y_train)"
   ]
  },
  {
   "cell_type": "code",
   "execution_count": null,
   "id": "a25adb75",
   "metadata": {
    "execution": {
     "iopub.execute_input": "2021-10-07T10:08:32.072979Z",
     "iopub.status.busy": "2021-10-07T10:08:32.072032Z",
     "iopub.status.idle": "2021-10-07T10:08:32.076433Z",
     "shell.execute_reply": "2021-10-07T10:08:32.076926Z",
     "shell.execute_reply.started": "2021-10-07T10:05:38.672346Z"
    },
    "papermill": {
     "duration": 0.018033,
     "end_time": "2021-10-07T10:08:32.077121",
     "exception": false,
     "start_time": "2021-10-07T10:08:32.059088",
     "status": "completed"
    },
    "tags": []
   },
   "outputs": [],
   "source": [
    "# Predicting the Test set results\n",
    "y_pred = regressor.predict(X_test)"
   ]
  },
  {
   "cell_type": "code",
   "execution_count": null,
   "id": "b9e20a27",
   "metadata": {
    "execution": {
     "iopub.execute_input": "2021-10-07T10:08:32.108810Z",
     "iopub.status.busy": "2021-10-07T10:08:32.107786Z",
     "iopub.status.idle": "2021-10-07T10:08:32.109637Z",
     "shell.execute_reply": "2021-10-07T10:08:32.110253Z",
     "shell.execute_reply.started": "2021-10-07T10:05:50.561474Z"
    },
    "papermill": {
     "duration": 0.018772,
     "end_time": "2021-10-07T10:08:32.110435",
     "exception": false,
     "start_time": "2021-10-07T10:08:32.091663",
     "status": "completed"
    },
    "tags": []
   },
   "outputs": [],
   "source": [
    "# Saving model using pickle\n",
    "pickle.dump(regressor, open('model.pkl','wb'))"
   ]
  },
  {
   "cell_type": "code",
   "execution_count": null,
   "id": "058e3c7d",
   "metadata": {
    "execution": {
     "iopub.execute_input": "2021-10-07T10:08:32.134990Z",
     "iopub.status.busy": "2021-10-07T10:08:32.134099Z",
     "iopub.status.idle": "2021-10-07T10:08:32.140188Z",
     "shell.execute_reply": "2021-10-07T10:08:32.139594Z",
     "shell.execute_reply.started": "2021-10-07T10:07:54.009097Z"
    },
    "papermill": {
     "duration": 0.017454,
     "end_time": "2021-10-07T10:08:32.140323",
     "exception": false,
     "start_time": "2021-10-07T10:08:32.122869",
     "status": "completed"
    },
    "tags": []
   },
   "outputs": [
    {
     "name": "stdout",
     "output_type": "stream",
     "text": [
      "[26816.19224403]\n"
     ]
    }
   ],
   "source": [
    "# Loading model to compare the results\n",
    "model = pickle.load( open('model.pkl','rb'))\n",
    "print(model.predict([[0.0]]))"
   ]
  },
  {
   "cell_type": "code",
   "execution_count": null,
   "id": "4e54c894",
   "metadata": {
    "papermill": {
     "duration": 0.008166,
     "end_time": "2021-10-07T10:08:32.157043",
     "exception": false,
     "start_time": "2021-10-07T10:08:32.148877",
     "status": "completed"
    },
    "tags": []
   },
   "outputs": [],
   "source": []
  }
 ],
 "metadata": {
  "kernelspec": {
   "display_name": "Python 3",
   "language": "python",
   "name": "python3"
  },
  "language_info": {
   "codemirror_mode": {
    "name": "ipython",
    "version": 3
   },
   "file_extension": ".py",
   "mimetype": "text/x-python",
   "name": "python",
   "nbconvert_exporter": "python",
   "pygments_lexer": "ipython3",
   "version": "3.9.7"
  },
  "papermill": {
   "default_parameters": {},
   "duration": 8.401944,
   "end_time": "2021-10-07T10:08:32.775245",
   "environment_variables": {},
   "exception": null,
   "input_path": "__notebook__.ipynb",
   "output_path": "__notebook__.ipynb",
   "parameters": {},
   "start_time": "2021-10-07T10:08:24.373301",
   "version": "2.3.3"
  }
 },
 "nbformat": 4,
 "nbformat_minor": 5
}

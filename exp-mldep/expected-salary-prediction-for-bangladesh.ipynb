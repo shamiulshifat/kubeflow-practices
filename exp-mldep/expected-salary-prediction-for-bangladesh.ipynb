{
 "cells": [
  {
   "cell_type": "code",
   "execution_count": 1,
   "id": "d3eee7c7",
   "metadata": {
    "_cell_guid": "b1076dfc-b9ad-4769-8c92-a6c4dae69d19",
    "_uuid": "8f2839f25d086af736a60e9eeb907d3b93b6e0e5",
    "execution": {
     "iopub.execute_input": "2021-10-07T10:08:31.048700Z",
     "iopub.status.busy": "2021-10-07T10:08:31.047636Z",
     "iopub.status.idle": "2021-10-07T10:08:31.063944Z",
     "shell.execute_reply": "2021-10-07T10:08:31.064408Z"
    },
    "papermill": {
     "duration": 0.028322,
     "end_time": "2021-10-07T10:08:31.064682",
     "exception": false,
     "start_time": "2021-10-07T10:08:31.036360",
     "status": "completed"
    },
    "tags": []
   },
   "outputs": [
    {
     "name": "stdout",
     "output_type": "stream",
     "text": [
      "/kaggle/input/salary-prediction-dataset/Salary_Data.csv\n"
     ]
    }
   ],
   "source": [
    "# This Python 3 environment comes with many helpful analytics libraries installed\n",
    "# It is defined by the kaggle/python Docker image: https://github.com/kaggle/docker-python\n",
    "# For example, here's several helpful packages to load\n",
    "\n",
    "import numpy as np # linear algebra\n",
    "import pandas as pd # data processing, CSV file I/O (e.g. pd.read_csv)\n",
    "\n",
    "# Input data files are available in the read-only \"../input/\" directory\n",
    "# For example, running this (by clicking run or pressing Shift+Enter) will list all files under the input directory\n",
    "\n",
    "import os\n",
    "for dirname, _, filenames in os.walk('/kaggle/input'):\n",
    "    for filename in filenames:\n",
    "        print(os.path.join(dirname, filename))\n",
    "\n",
    "# You can write up to 20GB to the current directory (/kaggle/working/) that gets preserved as output when you create a version using \"Save & Run All\" \n",
    "# You can also write temporary files to /kaggle/temp/, but they won't be saved outside of the current session"
   ]
  },
  {
   "cell_type": "code",
   "execution_count": 2,
   "id": "012a7a68",
   "metadata": {
    "execution": {
     "iopub.execute_input": "2021-10-07T10:08:31.082256Z",
     "iopub.status.busy": "2021-10-07T10:08:31.081667Z",
     "iopub.status.idle": "2021-10-07T10:08:31.085523Z",
     "shell.execute_reply": "2021-10-07T10:08:31.085072Z",
     "shell.execute_reply.started": "2021-10-07T09:59:58.032935Z"
    },
    "papermill": {
     "duration": 0.013328,
     "end_time": "2021-10-07T10:08:31.085688",
     "exception": false,
     "start_time": "2021-10-07T10:08:31.072360",
     "status": "completed"
    },
    "tags": []
   },
   "outputs": [],
   "source": [
    "#load important libs\n",
    "\n",
    "import numpy as np\n",
    "import matplotlib.pyplot as plt\n",
    "import pandas as pd\n",
    "import pickle\n",
    "import requests\n",
    "import json"
   ]
  },
  {
   "cell_type": "code",
   "execution_count": 3,
   "id": "786ece5e",
   "metadata": {
    "execution": {
     "iopub.execute_input": "2021-10-07T10:08:31.104977Z",
     "iopub.status.busy": "2021-10-07T10:08:31.104377Z",
     "iopub.status.idle": "2021-10-07T10:08:31.129879Z",
     "shell.execute_reply": "2021-10-07T10:08:31.130310Z",
     "shell.execute_reply.started": "2021-10-07T10:02:53.833454Z"
    },
    "papermill": {
     "duration": 0.037643,
     "end_time": "2021-10-07T10:08:31.130484",
     "exception": false,
     "start_time": "2021-10-07T10:08:31.092841",
     "status": "completed"
    },
    "tags": []
   },
   "outputs": [
    {
     "data": {
      "text/html": [
       "<div>\n",
       "<style scoped>\n",
       "    .dataframe tbody tr th:only-of-type {\n",
       "        vertical-align: middle;\n",
       "    }\n",
       "\n",
       "    .dataframe tbody tr th {\n",
       "        vertical-align: top;\n",
       "    }\n",
       "\n",
       "    .dataframe thead th {\n",
       "        text-align: right;\n",
       "    }\n",
       "</style>\n",
       "<table border=\"1\" class=\"dataframe\">\n",
       "  <thead>\n",
       "    <tr style=\"text-align: right;\">\n",
       "      <th></th>\n",
       "      <th>YearsExperience</th>\n",
       "      <th>Salary</th>\n",
       "    </tr>\n",
       "  </thead>\n",
       "  <tbody>\n",
       "    <tr>\n",
       "      <th>0</th>\n",
       "      <td>1.1</td>\n",
       "      <td>39343.0</td>\n",
       "    </tr>\n",
       "    <tr>\n",
       "      <th>1</th>\n",
       "      <td>1.3</td>\n",
       "      <td>46205.0</td>\n",
       "    </tr>\n",
       "    <tr>\n",
       "      <th>2</th>\n",
       "      <td>1.5</td>\n",
       "      <td>37731.0</td>\n",
       "    </tr>\n",
       "    <tr>\n",
       "      <th>3</th>\n",
       "      <td>2.0</td>\n",
       "      <td>43525.0</td>\n",
       "    </tr>\n",
       "    <tr>\n",
       "      <th>4</th>\n",
       "      <td>2.2</td>\n",
       "      <td>39891.0</td>\n",
       "    </tr>\n",
       "    <tr>\n",
       "      <th>5</th>\n",
       "      <td>2.9</td>\n",
       "      <td>56642.0</td>\n",
       "    </tr>\n",
       "    <tr>\n",
       "      <th>6</th>\n",
       "      <td>3.0</td>\n",
       "      <td>60150.0</td>\n",
       "    </tr>\n",
       "    <tr>\n",
       "      <th>7</th>\n",
       "      <td>3.2</td>\n",
       "      <td>54445.0</td>\n",
       "    </tr>\n",
       "    <tr>\n",
       "      <th>8</th>\n",
       "      <td>3.2</td>\n",
       "      <td>64445.0</td>\n",
       "    </tr>\n",
       "    <tr>\n",
       "      <th>9</th>\n",
       "      <td>3.7</td>\n",
       "      <td>57189.0</td>\n",
       "    </tr>\n",
       "    <tr>\n",
       "      <th>10</th>\n",
       "      <td>3.9</td>\n",
       "      <td>63218.0</td>\n",
       "    </tr>\n",
       "    <tr>\n",
       "      <th>11</th>\n",
       "      <td>4.0</td>\n",
       "      <td>55794.0</td>\n",
       "    </tr>\n",
       "    <tr>\n",
       "      <th>12</th>\n",
       "      <td>4.0</td>\n",
       "      <td>56957.0</td>\n",
       "    </tr>\n",
       "    <tr>\n",
       "      <th>13</th>\n",
       "      <td>4.1</td>\n",
       "      <td>57081.0</td>\n",
       "    </tr>\n",
       "    <tr>\n",
       "      <th>14</th>\n",
       "      <td>4.5</td>\n",
       "      <td>61111.0</td>\n",
       "    </tr>\n",
       "    <tr>\n",
       "      <th>15</th>\n",
       "      <td>4.9</td>\n",
       "      <td>67938.0</td>\n",
       "    </tr>\n",
       "    <tr>\n",
       "      <th>16</th>\n",
       "      <td>5.1</td>\n",
       "      <td>66029.0</td>\n",
       "    </tr>\n",
       "    <tr>\n",
       "      <th>17</th>\n",
       "      <td>5.3</td>\n",
       "      <td>83088.0</td>\n",
       "    </tr>\n",
       "    <tr>\n",
       "      <th>18</th>\n",
       "      <td>5.9</td>\n",
       "      <td>81363.0</td>\n",
       "    </tr>\n",
       "    <tr>\n",
       "      <th>19</th>\n",
       "      <td>6.0</td>\n",
       "      <td>93940.0</td>\n",
       "    </tr>\n",
       "    <tr>\n",
       "      <th>20</th>\n",
       "      <td>6.8</td>\n",
       "      <td>91738.0</td>\n",
       "    </tr>\n",
       "    <tr>\n",
       "      <th>21</th>\n",
       "      <td>7.1</td>\n",
       "      <td>98273.0</td>\n",
       "    </tr>\n",
       "    <tr>\n",
       "      <th>22</th>\n",
       "      <td>7.9</td>\n",
       "      <td>101302.0</td>\n",
       "    </tr>\n",
       "    <tr>\n",
       "      <th>23</th>\n",
       "      <td>8.2</td>\n",
       "      <td>113812.0</td>\n",
       "    </tr>\n",
       "    <tr>\n",
       "      <th>24</th>\n",
       "      <td>8.7</td>\n",
       "      <td>109431.0</td>\n",
       "    </tr>\n",
       "    <tr>\n",
       "      <th>25</th>\n",
       "      <td>9.0</td>\n",
       "      <td>105582.0</td>\n",
       "    </tr>\n",
       "    <tr>\n",
       "      <th>26</th>\n",
       "      <td>9.5</td>\n",
       "      <td>116969.0</td>\n",
       "    </tr>\n",
       "    <tr>\n",
       "      <th>27</th>\n",
       "      <td>9.6</td>\n",
       "      <td>112635.0</td>\n",
       "    </tr>\n",
       "    <tr>\n",
       "      <th>28</th>\n",
       "      <td>10.3</td>\n",
       "      <td>122391.0</td>\n",
       "    </tr>\n",
       "    <tr>\n",
       "      <th>29</th>\n",
       "      <td>10.5</td>\n",
       "      <td>121872.0</td>\n",
       "    </tr>\n",
       "  </tbody>\n",
       "</table>\n",
       "</div>"
      ],
      "text/plain": [
       "    YearsExperience    Salary\n",
       "0               1.1   39343.0\n",
       "1               1.3   46205.0\n",
       "2               1.5   37731.0\n",
       "3               2.0   43525.0\n",
       "4               2.2   39891.0\n",
       "5               2.9   56642.0\n",
       "6               3.0   60150.0\n",
       "7               3.2   54445.0\n",
       "8               3.2   64445.0\n",
       "9               3.7   57189.0\n",
       "10              3.9   63218.0\n",
       "11              4.0   55794.0\n",
       "12              4.0   56957.0\n",
       "13              4.1   57081.0\n",
       "14              4.5   61111.0\n",
       "15              4.9   67938.0\n",
       "16              5.1   66029.0\n",
       "17              5.3   83088.0\n",
       "18              5.9   81363.0\n",
       "19              6.0   93940.0\n",
       "20              6.8   91738.0\n",
       "21              7.1   98273.0\n",
       "22              7.9  101302.0\n",
       "23              8.2  113812.0\n",
       "24              8.7  109431.0\n",
       "25              9.0  105582.0\n",
       "26              9.5  116969.0\n",
       "27              9.6  112635.0\n",
       "28             10.3  122391.0\n",
       "29             10.5  121872.0"
      ]
     },
     "metadata": {},
     "output_type": "display_data"
    }
   ],
   "source": [
    "#import dataset\n",
    "dataset = pd.read_csv('../input/salary-prediction-dataset/Salary_Data.csv')\n",
    "\n",
    "#show the data\n",
    "display(dataset)\n"
   ]
  },
  {
   "cell_type": "code",
   "execution_count": 4,
   "id": "784ecce4",
   "metadata": {
    "execution": {
     "iopub.execute_input": "2021-10-07T10:08:31.149268Z",
     "iopub.status.busy": "2021-10-07T10:08:31.148692Z",
     "iopub.status.idle": "2021-10-07T10:08:31.155476Z",
     "shell.execute_reply": "2021-10-07T10:08:31.155977Z",
     "shell.execute_reply.started": "2021-10-07T10:03:52.053460Z"
    },
    "papermill": {
     "duration": 0.017702,
     "end_time": "2021-10-07T10:08:31.156155",
     "exception": false,
     "start_time": "2021-10-07T10:08:31.138453",
     "status": "completed"
    },
    "tags": []
   },
   "outputs": [
    {
     "data": {
      "text/plain": [
       "array([[ 1.1],\n",
       "       [ 1.3],\n",
       "       [ 1.5],\n",
       "       [ 2. ],\n",
       "       [ 2.2],\n",
       "       [ 2.9],\n",
       "       [ 3. ],\n",
       "       [ 3.2],\n",
       "       [ 3.2],\n",
       "       [ 3.7],\n",
       "       [ 3.9],\n",
       "       [ 4. ],\n",
       "       [ 4. ],\n",
       "       [ 4.1],\n",
       "       [ 4.5],\n",
       "       [ 4.9],\n",
       "       [ 5.1],\n",
       "       [ 5.3],\n",
       "       [ 5.9],\n",
       "       [ 6. ],\n",
       "       [ 6.8],\n",
       "       [ 7.1],\n",
       "       [ 7.9],\n",
       "       [ 8.2],\n",
       "       [ 8.7],\n",
       "       [ 9. ],\n",
       "       [ 9.5],\n",
       "       [ 9.6],\n",
       "       [10.3],\n",
       "       [10.5]])"
      ]
     },
     "execution_count": 4,
     "metadata": {},
     "output_type": "execute_result"
    }
   ],
   "source": [
    "# X contains the years of experience, y contains the expected salary\n",
    "X = dataset.iloc[:, :-1].values\n",
    "y = dataset.iloc[:, 1].values\n",
    "X"
   ]
  },
  {
   "cell_type": "code",
   "execution_count": 5,
   "id": "4a6ee09f",
   "metadata": {
    "execution": {
     "iopub.execute_input": "2021-10-07T10:08:31.175100Z",
     "iopub.status.busy": "2021-10-07T10:08:31.174522Z",
     "iopub.status.idle": "2021-10-07T10:08:31.937548Z",
     "shell.execute_reply": "2021-10-07T10:08:31.936906Z",
     "shell.execute_reply.started": "2021-10-07T10:04:38.671675Z"
    },
    "papermill": {
     "duration": 0.77359,
     "end_time": "2021-10-07T10:08:31.937685",
     "exception": false,
     "start_time": "2021-10-07T10:08:31.164095",
     "status": "completed"
    },
    "tags": []
   },
   "outputs": [],
   "source": [
    "#split the data\n",
    "from sklearn.model_selection import train_test_split\n",
    "X_train, X_test, y_train, y_test = train_test_split(X, y, test_size = 1/3, random_state = 0)"
   ]
  },
  {
   "cell_type": "code",
   "execution_count": 6,
   "id": "6633bfe0",
   "metadata": {
    "execution": {
     "iopub.execute_input": "2021-10-07T10:08:31.960511Z",
     "iopub.status.busy": "2021-10-07T10:08:31.959660Z",
     "iopub.status.idle": "2021-10-07T10:08:32.047625Z",
     "shell.execute_reply": "2021-10-07T10:08:32.047168Z",
     "shell.execute_reply.started": "2021-10-07T10:05:20.043425Z"
    },
    "papermill": {
     "duration": 0.100232,
     "end_time": "2021-10-07T10:08:32.047759",
     "exception": false,
     "start_time": "2021-10-07T10:08:31.947527",
     "status": "completed"
    },
    "tags": []
   },
   "outputs": [
    {
     "data": {
      "text/plain": [
       "LinearRegression()"
      ]
     },
     "execution_count": 6,
     "metadata": {},
     "output_type": "execute_result"
    }
   ],
   "source": [
    "#fit the model to a simple regression\n",
    "from sklearn.linear_model import LinearRegression\n",
    "regressor = LinearRegression()\n",
    "regressor.fit(X_train, y_train)"
   ]
  },
  {
   "cell_type": "code",
   "execution_count": 7,
   "id": "a25adb75",
   "metadata": {
    "execution": {
     "iopub.execute_input": "2021-10-07T10:08:32.072979Z",
     "iopub.status.busy": "2021-10-07T10:08:32.072032Z",
     "iopub.status.idle": "2021-10-07T10:08:32.076433Z",
     "shell.execute_reply": "2021-10-07T10:08:32.076926Z",
     "shell.execute_reply.started": "2021-10-07T10:05:38.672346Z"
    },
    "papermill": {
     "duration": 0.018033,
     "end_time": "2021-10-07T10:08:32.077121",
     "exception": false,
     "start_time": "2021-10-07T10:08:32.059088",
     "status": "completed"
    },
    "tags": []
   },
   "outputs": [],
   "source": [
    "# Predicting the Test set results\n",
    "y_pred = regressor.predict(X_test)"
   ]
  },
  {
   "cell_type": "code",
   "execution_count": 8,
   "id": "b9e20a27",
   "metadata": {
    "execution": {
     "iopub.execute_input": "2021-10-07T10:08:32.108810Z",
     "iopub.status.busy": "2021-10-07T10:08:32.107786Z",
     "iopub.status.idle": "2021-10-07T10:08:32.109637Z",
     "shell.execute_reply": "2021-10-07T10:08:32.110253Z",
     "shell.execute_reply.started": "2021-10-07T10:05:50.561474Z"
    },
    "papermill": {
     "duration": 0.018772,
     "end_time": "2021-10-07T10:08:32.110435",
     "exception": false,
     "start_time": "2021-10-07T10:08:32.091663",
     "status": "completed"
    },
    "tags": []
   },
   "outputs": [],
   "source": [
    "# Saving model using pickle\n",
    "pickle.dump(regressor, open('model.pkl','wb'))"
   ]
  },
  {
   "cell_type": "code",
   "execution_count": 9,
   "id": "058e3c7d",
   "metadata": {
    "execution": {
     "iopub.execute_input": "2021-10-07T10:08:32.134990Z",
     "iopub.status.busy": "2021-10-07T10:08:32.134099Z",
     "iopub.status.idle": "2021-10-07T10:08:32.140188Z",
     "shell.execute_reply": "2021-10-07T10:08:32.139594Z",
     "shell.execute_reply.started": "2021-10-07T10:07:54.009097Z"
    },
    "papermill": {
     "duration": 0.017454,
     "end_time": "2021-10-07T10:08:32.140323",
     "exception": false,
     "start_time": "2021-10-07T10:08:32.122869",
     "status": "completed"
    },
    "tags": []
   },
   "outputs": [
    {
     "name": "stdout",
     "output_type": "stream",
     "text": [
      "[26816.19224403]\n"
     ]
    }
   ],
   "source": [
    "# Loading model to compare the results\n",
    "model = pickle.load( open('model.pkl','rb'))\n",
    "print(model.predict([[0.0]]))"
   ]
  },
  {
   "cell_type": "code",
   "execution_count": null,
   "id": "4e54c894",
   "metadata": {
    "papermill": {
     "duration": 0.008166,
     "end_time": "2021-10-07T10:08:32.157043",
     "exception": false,
     "start_time": "2021-10-07T10:08:32.148877",
     "status": "completed"
    },
    "tags": []
   },
   "outputs": [],
   "source": []
  }
 ],
 "metadata": {
  "kernelspec": {
   "display_name": "Python 3",
   "language": "python",
   "name": "python3"
  },
  "language_info": {
   "codemirror_mode": {
    "name": "ipython",
    "version": 3
   },
   "file_extension": ".py",
   "mimetype": "text/x-python",
   "name": "python",
   "nbconvert_exporter": "python",
   "pygments_lexer": "ipython3",
   "version": "3.7.10"
  },
  "papermill": {
   "default_parameters": {},
   "duration": 8.401944,
   "end_time": "2021-10-07T10:08:32.775245",
   "environment_variables": {},
   "exception": null,
   "input_path": "__notebook__.ipynb",
   "output_path": "__notebook__.ipynb",
   "parameters": {},
   "start_time": "2021-10-07T10:08:24.373301",
   "version": "2.3.3"
  }
 },
 "nbformat": 4,
 "nbformat_minor": 5
}
